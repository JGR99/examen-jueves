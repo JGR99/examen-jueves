{
 "cells": [
  {
   "cell_type": "code",
   "execution_count": 7,
   "id": "1da8b32a",
   "metadata": {},
   "outputs": [],
   "source": [
    "import pandas as pd\n",
    "import plotly.express as px"
   ]
  },
  {
   "cell_type": "code",
   "execution_count": 8,
   "id": "47a935b5",
   "metadata": {},
   "outputs": [
    {
     "name": "stderr",
     "output_type": "stream",
     "text": [
      "C:\\Users\\Joan\\AppData\\Local\\Temp\\ipykernel_8228\\1547980128.py:2: UserWarning:\n",
      "\n",
      "Parsing dates in %d/%m/%Y format when dayfirst=False (the default) was specified. Pass `dayfirst=True` or specify a format to silence this warning.\n",
      "\n"
     ]
    }
   ],
   "source": [
    "\n",
    "df = pd.read_csv(\"data/datos_mock.csv\", sep=\";\")\n",
    "df['dt'] = pd.to_datetime(df['dt'])\n",
    "df['year'] = df['dt'].dt.year"
   ]
  },
  {
   "cell_type": "code",
   "execution_count": 9,
   "id": "ea976db9",
   "metadata": {},
   "outputs": [],
   "source": [
    "fig = px.line(df, x='dt', y='valor', title='Evolución de valores en el tiempo')"
   ]
  },
  {
   "cell_type": "code",
   "execution_count": 10,
   "id": "bd2e3b68",
   "metadata": {},
   "outputs": [],
   "source": [
    "fig.write_html(\"results/grafico_interactivo.html\")"
   ]
  }
 ],
 "metadata": {
  "kernelspec": {
   "display_name": "venv",
   "language": "python",
   "name": "python3"
  },
  "language_info": {
   "codemirror_mode": {
    "name": "ipython",
    "version": 3
   },
   "file_extension": ".py",
   "mimetype": "text/x-python",
   "name": "python",
   "nbconvert_exporter": "python",
   "pygments_lexer": "ipython3",
   "version": "3.10.1"
  }
 },
 "nbformat": 4,
 "nbformat_minor": 5
}
